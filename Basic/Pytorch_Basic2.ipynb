{
  "nbformat": 4,
  "nbformat_minor": 0,
  "metadata": {
    "colab": {
      "provenance": [],
      "authorship_tag": "ABX9TyOZPmx6WvnC7FW4Kp7P0sF5",
      "include_colab_link": true
    },
    "kernelspec": {
      "name": "python3",
      "display_name": "Python 3"
    },
    "language_info": {
      "name": "python"
    }
  },
  "cells": [
    {
      "cell_type": "markdown",
      "metadata": {
        "id": "view-in-github",
        "colab_type": "text"
      },
      "source": [
        "<a href=\"https://colab.research.google.com/github/Youngmi-Park/pytorch-study/blob/main/Basic/Pytorch_Basic2.ipynb\" target=\"_parent\"><img src=\"https://colab.research.google.com/assets/colab-badge.svg\" alt=\"Open In Colab\"/></a>"
      ]
    },
    {
      "cell_type": "markdown",
      "source": [
        "# PyTorch Basic"
      ],
      "metadata": {
        "id": "Jo7ZNd88_pyJ"
      }
    },
    {
      "cell_type": "markdown",
      "source": [
        "## 1. 텐서 조작하기\n",
        "\n",
        "## 1. 뷰(View) \n",
        "✨매우 중요✨\n",
        "\n",
        "- 원소의 개수를 유지하면서 텐서의 크기를 변경한다.\n",
        "- 사이즈가 -1로 설정되면 다른 차원으로 부터 해당 값을 유추한다.\n",
        "- Numpy의 Reshape와 같은 역할을 수행한다.\n",
        "\n",
        "임의의 3차원 텐서를 만들고 크기를 변경해본다."
      ],
      "metadata": {
        "id": "pkBM7VsgCaQM"
      }
    },
    {
      "cell_type": "code",
      "source": [
        "import torch\n",
        "import numpy as np\n",
        "\n",
        "t = np.array([[[0,1,2],\n",
        "               [3,4,5]],\n",
        "              [[6,7,8],\n",
        "               [9,10,11]]])\n",
        "\n",
        "ft = torch.FloatTensor(t) # 3차원 numpy array를 3차원 tensor로"
      ],
      "metadata": {
        "id": "_0N3NmQKCtxF"
      },
      "execution_count": null,
      "outputs": []
    },
    {
      "cell_type": "code",
      "source": [
        "print(ft.shape) # 텐서의 크기(shape)확인, torch.Size([2, 2, 3]) 차원, 행, 열"
      ],
      "metadata": {
        "colab": {
          "base_uri": "https://localhost:8080/"
        },
        "id": "HM_cZlEaCtux",
        "outputId": "e3906b09-1a62-4555-b180-4fd60a874c21"
      },
      "execution_count": null,
      "outputs": [
        {
          "output_type": "stream",
          "name": "stdout",
          "text": [
            "torch.Size([2, 2, 3])\n"
          ]
        }
      ]
    },
    {
      "cell_type": "markdown",
      "source": [
        "### 1) 3차원 텐서 → 2차원 텐서\n",
        "\n",
        "ft.view([-1, 3])는 ft라는 텐서를 (?, 3)의 크기로 변경한다. \n",
        "- -1: 첫번째 차원은 사용자가 잘 모르겠으니 파이토치가 알아서 계산하도록 하는 것\n",
        "- 3: 두번째 차원은 3으로 지정\n",
        "\n",
        "결과적으로 (2, 2, 3) → (2×2, 3) → (4, 3)의 크기를 가지는 텐서로 변경한다."
      ],
      "metadata": {
        "id": "7TU3EjmMFRRU"
      }
    },
    {
      "cell_type": "code",
      "execution_count": null,
      "metadata": {
        "colab": {
          "base_uri": "https://localhost:8080/"
        },
        "id": "BzX8J5Ho_fuQ",
        "outputId": "dd6a3021-f2c5-43cd-90ab-e497d10d6748"
      },
      "outputs": [
        {
          "output_type": "stream",
          "name": "stdout",
          "text": [
            "tensor([[ 0.,  1.,  2.],\n",
            "        [ 3.,  4.,  5.],\n",
            "        [ 6.,  7.,  8.],\n",
            "        [ 9., 10., 11.]])\n",
            "torch.Size([4, 3])\n"
          ]
        }
      ],
      "source": [
        "print(ft.view([-1, 3])) # 원래 ft의 형태를 바꾸지는 않음\n",
        "print(ft.view([-1, 3]).shape) # torch.Size([4, 3])"
      ]
    },
    {
      "cell_type": "markdown",
      "source": [
        "### 2) 3차원 텐서 → 다른 크기의 3차원 텐서\n",
        "\n",
        "원소 개수가 유지되어야하기 때문에 (2, 2, 3)텐서를 (?, 1, 3)텐서로 바꾸려면\n",
        "? 차원은 4가 된다.\n"
      ],
      "metadata": {
        "id": "XrSv2NA6HqJv"
      }
    },
    {
      "cell_type": "code",
      "source": [
        "print(ft.view([-1,1,3]))\n",
        "print(ft.view([-1,1,3]).shape) # torch.Size([4, 1, 3])"
      ],
      "metadata": {
        "colab": {
          "base_uri": "https://localhost:8080/"
        },
        "id": "DGBw_abkGrbr",
        "outputId": "98f88fcd-fbbb-4a91-f40f-7277addc15cf"
      },
      "execution_count": null,
      "outputs": [
        {
          "output_type": "stream",
          "name": "stdout",
          "text": [
            "tensor([[[ 0.,  1.,  2.]],\n",
            "\n",
            "        [[ 3.,  4.,  5.]],\n",
            "\n",
            "        [[ 6.,  7.,  8.]],\n",
            "\n",
            "        [[ 9., 10., 11.]]])\n",
            "torch.Size([4, 1, 3])\n"
          ]
        }
      ]
    },
    {
      "cell_type": "markdown",
      "source": [
        "## 2. 스퀴즈(Squeeze)와 언스퀴즈(Unsqueeze)\n",
        "- squeeze: 차원이 1인 경우 해당 차원을 제거\n",
        "- unsqueeze: 특정 위치에 1인 차원 추가(squeeze와 정반대 역할)\n",
        "  - 0부터 첫번째 차원을 의미\n",
        "  - -1은 마지막 차원을 의미\n"
      ],
      "metadata": {
        "id": "mrcwf_s2IcYY"
      }
    },
    {
      "cell_type": "markdown",
      "source": [
        "\n",
        "(3 × 1) 크기의 2차원 텐서를 squeeze하면 1이었던 두번째 차원을 제거한다.\n",
        "\n",
        " → (3,) 크기의 1차원 벡터\n"
      ],
      "metadata": {
        "id": "twDcAcFFJgDy"
      }
    },
    {
      "cell_type": "code",
      "source": [
        "ft = torch.FloatTensor([[0],[1],[2]])\n",
        "print(ft)\n",
        "print(ft.shape)"
      ],
      "metadata": {
        "colab": {
          "base_uri": "https://localhost:8080/"
        },
        "id": "vyz1bkm7ILCx",
        "outputId": "0b11d2a7-1502-4a53-dd3e-bc927c651696"
      },
      "execution_count": null,
      "outputs": [
        {
          "output_type": "stream",
          "name": "stdout",
          "text": [
            "tensor([[0.],\n",
            "        [1.],\n",
            "        [2.]])\n",
            "torch.Size([3, 1])\n"
          ]
        }
      ]
    },
    {
      "cell_type": "code",
      "source": [
        "print(ft.squeeze())\n",
        "print(ft.squeeze().shape)"
      ],
      "metadata": {
        "colab": {
          "base_uri": "https://localhost:8080/"
        },
        "id": "UTeEfKsII4fs",
        "outputId": "c9fa2e3f-bc6b-41d7-8840-9c61ab193f53"
      },
      "execution_count": null,
      "outputs": [
        {
          "output_type": "stream",
          "name": "stdout",
          "text": [
            "tensor([0., 1., 2.])\n",
            "torch.Size([3])\n"
          ]
        }
      ]
    },
    {
      "cell_type": "markdown",
      "source": [
        "(3,) 크기의 1인 차원 텐서를 unsqueeze(0) 하면 인자 0을 의미하는 첫번째 차원에 1인 차원이 추가된다.\n",
        "\n",
        "→ (1,3) 크기의 2차원 텐서"
      ],
      "metadata": {
        "id": "8u5ZY8fCJhn3"
      }
    },
    {
      "cell_type": "code",
      "source": [
        "ft = torch.FloatTensor([0,1,2])\n",
        "print(ft)\n",
        "print(ft.shape)"
      ],
      "metadata": {
        "colab": {
          "base_uri": "https://localhost:8080/"
        },
        "id": "q6zmn7S8I8vg",
        "outputId": "28fc2787-585c-4907-a63b-824de015ae04"
      },
      "execution_count": null,
      "outputs": [
        {
          "output_type": "stream",
          "name": "stdout",
          "text": [
            "tensor([0., 1., 2.])\n",
            "torch.Size([3])\n"
          ]
        }
      ]
    },
    {
      "cell_type": "code",
      "source": [
        "print(ft.unsqueeze(0)) # 인덱스가 0부터 시작, 0 = 첫번째 차원 의미\n",
        "print(ft.unsqueeze(0).shape)"
      ],
      "metadata": {
        "colab": {
          "base_uri": "https://localhost:8080/"
        },
        "id": "vQ_Tb_AvJnfy",
        "outputId": "deafc628-713d-48a0-d7ac-99c83f584fdd"
      },
      "execution_count": null,
      "outputs": [
        {
          "output_type": "stream",
          "name": "stdout",
          "text": [
            "tensor([[0., 1., 2.]])\n",
            "torch.Size([1, 3])\n"
          ]
        }
      ]
    },
    {
      "cell_type": "markdown",
      "source": [
        "(3,) 크기의 1인 차원 텐서를 unsqueeze(1) 하면 인자 1을 의미하는 두번째 차원에 1인 차원이 추가된다.\n",
        "\n",
        "→ (3,1) 크기의 2차원 텐서"
      ],
      "metadata": {
        "id": "L_3x4JVtLTIB"
      }
    },
    {
      "cell_type": "code",
      "source": [
        "print(ft.unsqueeze(1)) # 인덱스가 0부터 시작, 0 = 첫번째 차원 의미\n",
        "print(ft.unsqueeze(1).shape)"
      ],
      "metadata": {
        "colab": {
          "base_uri": "https://localhost:8080/"
        },
        "id": "5bmZS-RbLSpG",
        "outputId": "0929986d-0f20-4396-8d6d-37c757123060"
      },
      "execution_count": null,
      "outputs": [
        {
          "output_type": "stream",
          "name": "stdout",
          "text": [
            "tensor([[0.],\n",
            "        [1.],\n",
            "        [2.]])\n",
            "torch.Size([3, 1])\n"
          ]
        }
      ]
    },
    {
      "cell_type": "code",
      "source": [],
      "metadata": {
        "id": "h8HHZuMZPec9"
      },
      "execution_count": null,
      "outputs": []
    }
  ]
}